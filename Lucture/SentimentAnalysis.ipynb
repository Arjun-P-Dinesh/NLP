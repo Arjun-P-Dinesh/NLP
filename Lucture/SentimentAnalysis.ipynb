{
 "cells": [
  {
   "cell_type": "markdown",
   "metadata": {},
   "source": [
    "*Sentiment analysis* is also known as opinion mining<br>\n",
    "NLP technique to detect the input data is positive,negative or neutral<br>\n",
    "it is commonly used to understand and quantify thr subjective opinions, attitude, etc <br>\n"
   ]
  },
  {
   "cell_type": "markdown",
   "metadata": {},
   "source": [
    "irony and sarcasm field is not explored much"
   ]
  },
  {
   "cell_type": "code",
   "execution_count": null,
   "metadata": {},
   "outputs": [],
   "source": []
  }
 ],
 "metadata": {
  "kernelspec": {
   "display_name": "clg",
   "language": "python",
   "name": "python3"
  },
  "language_info": {
   "name": "python",
   "version": "3.12.1"
  }
 },
 "nbformat": 4,
 "nbformat_minor": 2
}
