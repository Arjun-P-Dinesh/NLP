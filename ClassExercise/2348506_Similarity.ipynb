{
  "nbformat": 4,
  "nbformat_minor": 0,
  "metadata": {
    "colab": {
      "provenance": []
    },
    "kernelspec": {
      "name": "python3",
      "display_name": "Python 3"
    },
    "language_info": {
      "name": "python"
    }
  },
  "cells": [
    {
      "cell_type": "markdown",
      "source": [
        "Find similarity between two documents.\n",
        "> Using cosine similarity\n",
        "\n"
      ],
      "metadata": {
        "id": "J3r0_BRO8Nv4"
      }
    },
    {
      "cell_type": "code",
      "execution_count": null,
      "metadata": {
        "id": "Q3HqfckN73Gr"
      },
      "outputs": [],
      "source": [
        "import numpy as np\n",
        "import nltk\n",
        "from nltk.corpus import stopwords\n",
        "from nltk.tokenize import word_tokenize\n",
        "from sklearn.feature_extraction.text import TfidfVectorizer\n",
        "from sklearn.metrics.pairwise import cosine_similarity\n",
        "import matplotlib.pyplot as plt"
      ]
    },
    {
      "cell_type": "code",
      "source": [
        "nltk.download('punkt')\n",
        "nltk.download('stopwords')"
      ],
      "metadata": {
        "colab": {
          "base_uri": "https://localhost:8080/"
        },
        "id": "k25Z1Q8m8hDt",
        "outputId": "e09b2a27-b5e5-44fd-ad83-ef6508601bb2"
      },
      "execution_count": null,
      "outputs": [
        {
          "output_type": "stream",
          "name": "stderr",
          "text": [
            "[nltk_data] Downloading package punkt to /root/nltk_data...\n",
            "[nltk_data]   Unzipping tokenizers/punkt.zip.\n",
            "[nltk_data] Downloading package stopwords to /root/nltk_data...\n",
            "[nltk_data]   Unzipping corpora/stopwords.zip.\n"
          ]
        },
        {
          "output_type": "execute_result",
          "data": {
            "text/plain": [
              "True"
            ]
          },
          "metadata": {},
          "execution_count": 2
        }
      ]
    },
    {
      "cell_type": "code",
      "source": [
        "# Sample documents\n",
        "document1 = \"For some drivers, an automatic transmission feels like a comfortable cocoon, isolating them from the raw mechanics of the road. But for others, clutching a gear shift is a dance, a symphony of coordinated limbs and focused intent. Every shift is a deliberate choice, a connection forged between driver and machine. The purr of the engine changes with each gear, a language understood only by those who listen closely. On winding roads, the manual car becomes an extension of the self, responding instantly to every flick of the wrist, every measured press of the clutch. It's not just transportation; it's an exhilarating, intimate experience, a constant conversation between driver and automobile.\"\n",
        "document2 = \"The click-clack of the gear lever, the rhythmic rise and fall of the clutch pedal - these are the fading echoes of a bygone era. In today's world of automatic convenience, manual transmissions are becoming an endangered species. While automatics offer smooth, effortless driving, they lack the soul, the engagement that defines the manual experience. It's a skill, a dying art form passed down through generations, demanding focus, coordination, and a deep understanding of the car's inner workings. For those who cherish this connection, the decline of the manual car is a bittersweet farewell, a lament for the days when driving was more than just getting from point A to point B; it was an act of involvement, a celebration of mechanical mastery.\""
      ],
      "metadata": {
        "id": "YougoOc_8pMm"
      },
      "execution_count": null,
      "outputs": []
    },
    {
      "cell_type": "code",
      "source": [
        "# Tokenize and preprocess the documents\n",
        "stop_words = set(stopwords.words('english'))"
      ],
      "metadata": {
        "id": "FhEX69wY9mrj"
      },
      "execution_count": null,
      "outputs": []
    },
    {
      "cell_type": "code",
      "source": [
        "def preprocess_text(text):\n",
        "    words = word_tokenize(text)\n",
        "    words = [word.lower() for word in words if word.isalnum() and word.lower() not in stop_words]\n",
        "    return ' '.join(words)\n",
        "\n",
        "document1 = preprocess_text(document1)\n",
        "document2 = preprocess_text(document2)"
      ],
      "metadata": {
        "id": "IL1MvJsZ9u3x"
      },
      "execution_count": null,
      "outputs": []
    },
    {
      "cell_type": "code",
      "source": [
        "# Compute TF-IDF vectors\n",
        "corpus = [document1, document2]\n",
        "vectorizer = TfidfVectorizer()\n",
        "tfidf_matrix = vectorizer.fit_transform(corpus)"
      ],
      "metadata": {
        "id": "bXwCLx3u9y37"
      },
      "execution_count": null,
      "outputs": []
    },
    {
      "cell_type": "code",
      "source": [
        "# Compute cosine similarity\n",
        "cosine_sim = cosine_similarity(tfidf_matrix[0], tfidf_matrix[1])"
      ],
      "metadata": {
        "id": "x0su6-aH91Zk"
      },
      "execution_count": null,
      "outputs": []
    },
    {
      "cell_type": "code",
      "source": [
        "# Plot the similarity score\n",
        "plt.figure()\n",
        "plt.imshow(cosine_sim, cmap='plasma', interpolation='nearest')\n",
        "plt.colorbar()\n",
        "plt.title('Cosine Similarity between Documents')\n",
        "plt.xticks([0, 1], ['Document 1', 'Document 2'])\n",
        "plt.yticks([])\n",
        "plt.show()"
      ],
      "metadata": {
        "colab": {
          "base_uri": "https://localhost:8080/",
          "height": 406
        },
        "id": "6AvVb_ix95Uc",
        "outputId": "a59530ca-22be-4e6b-ce3d-60376dcf953b"
      },
      "execution_count": null,
      "outputs": [
        {
          "output_type": "display_data",
          "data": {
            "text/plain": [
              "<Figure size 640x480 with 2 Axes>"
            ],
            "image/png": "[encoded data removed]"
          },
          "metadata": {}
        }
      ]
    },
    {
      "cell_type": "code",
      "source": [
        "# Print the similarity score\n",
        "print(f\"Cosine Similarity between Document 1 and Document 2: {cosine_sim[0][0]:.4f}\")"
      ],
      "metadata": {
        "colab": {
          "base_uri": "https://localhost:8080/"
        },
        "id": "hcRE24-w97Xz",
        "outputId": "5c6708f5-81c0-416f-db15-9cc0d5d8b152"
      },
      "execution_count": null,
      "outputs": [
        {
          "output_type": "stream",
          "name": "stdout",
          "text": [
            "Cosine Similarity between Document 1 and Document 2: 0.0830\n"
          ]
        }
      ]
    },
    {
      "cell_type": "code",
      "source": [],
      "metadata": {
        "id": "gD4wU1qX9-j4"
      },
      "execution_count": null,
      "outputs": []
    }
  ]
}