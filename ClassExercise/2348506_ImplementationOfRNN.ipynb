{
  "nbformat": 4,
  "nbformat_minor": 0,
  "metadata": {
    "colab": {
      "provenance": []
    },
    "kernelspec": {
      "name": "python3",
      "display_name": "Python 3"
    },
    "language_info": {
      "name": "python"
    }
  },
  "cells": [
    {
      "cell_type": "code",
      "source": [
        "#Import the libraries\n",
        "import math\n",
        "import numpy as np\n",
        "import pandas as pd\n",
        "from sklearn.preprocessing import MinMaxScaler\n",
        "from keras.models import Sequential\n",
        "from keras.layers import Dense, LSTM\n",
        "import matplotlib.pyplot as plt\n",
        "plt.style.use('fivethirtyeight')"
      ],
      "metadata": {
        "id": "Eh-hMkWV4sRH"
      },
      "execution_count": 6,
      "outputs": []
    },
    {
      "cell_type": "code",
      "source": [
        "features = (np.random.randint(10, size=(100, 1)))\n",
        "print(features.shape)"
      ],
      "metadata": {
        "colab": {
          "base_uri": "https://localhost:8080/"
        },
        "id": "UMpD4FVq4-OO",
        "outputId": "ec4cb0c8-6119-4ee0-eb21-65bda6ab66c2"
      },
      "execution_count": 7,
      "outputs": [
        {
          "output_type": "stream",
          "name": "stdout",
          "text": [
            "(100, 1)\n"
          ]
        }
      ]
    },
    {
      "cell_type": "code",
      "source": [
        "training_dataset_length = math.ceil(len(features) * .75)\n",
        "print(training_dataset_length)"
      ],
      "metadata": {
        "colab": {
          "base_uri": "https://localhost:8080/"
        },
        "id": "QzZgdv6h5EPa",
        "outputId": "d3be1a50-4eeb-473d-81a5-5b207662e145"
      },
      "execution_count": 8,
      "outputs": [
        {
          "output_type": "stream",
          "name": "stdout",
          "text": [
            "75\n"
          ]
        }
      ]
    },
    {
      "cell_type": "code",
      "source": [
        "#Scale all of the data to be values between 0 and 1\n",
        "scaler = MinMaxScaler(feature_range=(0, 1))\n",
        "scaled_data = scaler.fit_transform(features)"
      ],
      "metadata": {
        "id": "GVv5fdAt5Ekl"
      },
      "execution_count": 9,
      "outputs": []
    },
    {
      "cell_type": "code",
      "source": [
        "train_data = scaled_data[0:training_dataset_length , : ]\n",
        "#Splitting the data\n",
        "x_train=[]\n",
        "y_train = []\n",
        "for i in range(10, len(train_data)):\n",
        "    x_train.append(train_data[i-10:i,0])\n",
        "    y_train.append(train_data[i,0])"
      ],
      "metadata": {
        "id": "t4Ht06gg5HRC"
      },
      "execution_count": 10,
      "outputs": []
    },
    {
      "cell_type": "code",
      "source": [
        "#Convert to numpy arrays\n",
        "x_train, y_train = np.array(x_train), np.array(y_train)\n",
        "#Reshape the data into 3-D array\n",
        "x_train = np.reshape(x_train, (x_train.shape[0],x_train.shape[1],1))"
      ],
      "metadata": {
        "id": "4uTXSXEP5JMb"
      },
      "execution_count": 11,
      "outputs": []
    },
    {
      "cell_type": "code",
      "source": [
        "from keras.layers import Dropout\n",
        "# Initialising the RNN\n",
        "model = Sequential()\n",
        "model.add(LSTM(units = 50, return_sequences = True, input_shape = (x_train.shape[1], 1)))\n",
        "model.add(Dropout(0.2))\n",
        "# Adding a second LSTM layer and Dropout layer\n",
        "model.add(LSTM(units = 50, return_sequences = True))\n",
        "model.add(Dropout(0.2))\n",
        "# Adding a third LSTM layer and Dropout layer\n",
        "model.add(LSTM(units = 50, return_sequences = True))\n",
        "model.add(Dropout(0.2))\n",
        "# Adding a fourth LSTM layer and and Dropout layer\n",
        "model.add(LSTM(units = 50))\n",
        "model.add(Dropout(0.2))\n",
        "# Adding the output layer\n",
        "# For Full connection layer we use dense\n",
        "# As the output is 1D so we use unit=1\n",
        "model.add(Dense(units = 1))"
      ],
      "metadata": {
        "id": "cPYUhQHA5K0R"
      },
      "execution_count": 12,
      "outputs": []
    },
    {
      "cell_type": "code",
      "source": [
        "#compile and fit the model on 30 epochs\n",
        "model.compile(optimizer = 'adam', loss = 'mean_squared_error')\n",
        "model.fit(x_train, y_train, epochs = 30, batch_size = 50)\n"
      ],
      "metadata": {
        "colab": {
          "base_uri": "https://localhost:8080/"
        },
        "id": "UitdiiTn5P1e",
        "outputId": "100f9663-0b80-4fbd-d8a5-3f876734e144"
      },
      "execution_count": 14,
      "outputs": [
        {
          "output_type": "stream",
          "name": "stdout",
          "text": [
            "Epoch 1/30\n",
            "2/2 [==============================] - 11s 64ms/step - loss: 0.3149\n",
            "Epoch 2/30\n",
            "2/2 [==============================] - 0s 69ms/step - loss: 0.2615\n",
            "Epoch 3/30\n",
            "2/2 [==============================] - 0s 41ms/step - loss: 0.1954\n",
            "Epoch 4/30\n",
            "2/2 [==============================] - 0s 29ms/step - loss: 0.1398\n",
            "Epoch 5/30\n",
            "2/2 [==============================] - 0s 28ms/step - loss: 0.0993\n",
            "Epoch 6/30\n",
            "2/2 [==============================] - 0s 25ms/step - loss: 0.1201\n",
            "Epoch 7/30\n",
            "2/2 [==============================] - 0s 24ms/step - loss: 0.1324\n",
            "Epoch 8/30\n",
            "2/2 [==============================] - 0s 33ms/step - loss: 0.1110\n",
            "Epoch 9/30\n",
            "2/2 [==============================] - 0s 59ms/step - loss: 0.1077\n",
            "Epoch 10/30\n",
            "2/2 [==============================] - 0s 39ms/step - loss: 0.1017\n",
            "Epoch 11/30\n",
            "2/2 [==============================] - 0s 39ms/step - loss: 0.1060\n",
            "Epoch 12/30\n",
            "2/2 [==============================] - 0s 36ms/step - loss: 0.1047\n",
            "Epoch 13/30\n",
            "2/2 [==============================] - 0s 45ms/step - loss: 0.0952\n",
            "Epoch 14/30\n",
            "2/2 [==============================] - 0s 37ms/step - loss: 0.1010\n",
            "Epoch 15/30\n",
            "2/2 [==============================] - 0s 38ms/step - loss: 0.0925\n",
            "Epoch 16/30\n",
            "2/2 [==============================] - 0s 41ms/step - loss: 0.0973\n",
            "Epoch 17/30\n",
            "2/2 [==============================] - 0s 43ms/step - loss: 0.1052\n",
            "Epoch 18/30\n",
            "2/2 [==============================] - 0s 61ms/step - loss: 0.0980\n",
            "Epoch 19/30\n",
            "2/2 [==============================] - 0s 67ms/step - loss: 0.0975\n",
            "Epoch 20/30\n",
            "2/2 [==============================] - 0s 43ms/step - loss: 0.0978\n",
            "Epoch 21/30\n",
            "2/2 [==============================] - 0s 42ms/step - loss: 0.0965\n",
            "Epoch 22/30\n",
            "2/2 [==============================] - 0s 38ms/step - loss: 0.1054\n",
            "Epoch 23/30\n",
            "2/2 [==============================] - 0s 38ms/step - loss: 0.0991\n",
            "Epoch 24/30\n",
            "2/2 [==============================] - 0s 43ms/step - loss: 0.0996\n",
            "Epoch 25/30\n",
            "2/2 [==============================] - 0s 43ms/step - loss: 0.1028\n",
            "Epoch 26/30\n",
            "2/2 [==============================] - 0s 93ms/step - loss: 0.0920\n",
            "Epoch 27/30\n",
            "2/2 [==============================] - 0s 61ms/step - loss: 0.1035\n",
            "Epoch 28/30\n",
            "2/2 [==============================] - 0s 37ms/step - loss: 0.1009\n",
            "Epoch 29/30\n",
            "2/2 [==============================] - 0s 34ms/step - loss: 0.0991\n",
            "Epoch 30/30\n",
            "2/2 [==============================] - 0s 40ms/step - loss: 0.0960\n"
          ]
        },
        {
          "output_type": "execute_result",
          "data": {
            "text/plain": [
              "<keras.src.callbacks.History at 0x7f3bdf2b8df0>"
            ]
          },
          "metadata": {},
          "execution_count": 14
        }
      ]
    },
    {
      "cell_type": "code",
      "source": [
        "#Test data set\n",
        "test_data = scaled_data[training_dataset_length - 10: , : ]\n",
        "#splitting the x_test and y_test data sets\n",
        "x_test = []\n",
        "y_test = features[training_dataset_length : , : ]\n",
        "for i in range(10,len(test_data)):\n",
        "    x_test.append(test_data[i-10:i,0])\n",
        "#Convert x_test to a numpy array\n",
        "x_test = np.array(x_test)\n",
        "#Reshape the data into 3-D array\n",
        "x_test = np.reshape(x_test, (x_test.shape[0],x_test.shape[1],1))"
      ],
      "metadata": {
        "id": "CxrRaWgi5TTq"
      },
      "execution_count": 16,
      "outputs": []
    },
    {
      "cell_type": "code",
      "source": [
        "#check predicted values\n",
        "predictions = model.predict(x_test)\n",
        "#Undo scaling\n",
        "predictions = scaler.inverse_transform(predictions)\n",
        "#Calculate RMSE score\n",
        "rmse=np.sqrt(np.mean(((predictions- y_test)**2)))\n",
        "rmse"
      ],
      "metadata": {
        "colab": {
          "base_uri": "https://localhost:8080/"
        },
        "id": "I3yNgZeO5YLB",
        "outputId": "b4dc2b8f-cd43-4fc9-e2ce-b636d1fb7918"
      },
      "execution_count": 17,
      "outputs": [
        {
          "output_type": "stream",
          "name": "stdout",
          "text": [
            "1/1 [==============================] - 2s 2s/step\n"
          ]
        },
        {
          "output_type": "execute_result",
          "data": {
            "text/plain": [
              "3.107427302402242"
            ]
          },
          "metadata": {},
          "execution_count": 17
        }
      ]
    },
    {
      "cell_type": "code",
      "source": [],
      "metadata": {
        "id": "SYodM0Hf5aUp"
      },
      "execution_count": null,
      "outputs": []
    }
  ]
}