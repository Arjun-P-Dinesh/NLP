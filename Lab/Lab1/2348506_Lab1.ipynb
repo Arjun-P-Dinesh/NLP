{
  "nbformat": 4,
  "nbformat_minor": 0,
  "metadata": {
    "colab": {
      "provenance": []
    },
    "kernelspec": {
      "name": "python3",
      "display_name": "Python 3"
    },
    "language_info": {
      "name": "python"
    }
  },
  "cells": [
    {
      "cell_type": "code",
      "source": [
        "import nltk"
      ],
      "metadata": {
        "id": "-l7easg-GnG1"
      },
      "execution_count": 40,
      "outputs": []
    },
    {
      "cell_type": "code",
      "source": [
        "paragraph = \"The Porsche 911 isn't just a car, it's a legend ️ Sleek curves , a timeless silhouette , and that iconic flat-six roar  all combine to make it a dream machine. From classic longhoods  to modern marvels packed with tech , the 911 has evolved for decades, always staying true to its sporty soul. Whether carving corners on a mountain road ⛰️ or turning heads on city streets ️, the 911 is the ultimate expression of automotive passion and performance .\""
      ],
      "metadata": {
        "id": "6JL5kNwUGmz6"
      },
      "execution_count": 41,
      "outputs": []
    },
    {
      "cell_type": "code",
      "execution_count": 42,
      "metadata": {
        "colab": {
          "base_uri": "https://localhost:8080/"
        },
        "id": "texsVuZyGWIQ",
        "outputId": "a476c0ae-2d9d-4f3a-a4cf-bb34acc09211"
      },
      "outputs": [
        {
          "output_type": "stream",
          "name": "stdout",
          "text": [
            "['The', 'Porsche', '911', 'is', \"n't\", 'just', 'a', 'car', ',', 'it', \"'s\", 'a', 'legend', '️', 'Sleek', 'curves', ',', 'a', 'timeless', 'silhouette', ',', 'and', 'that', 'iconic', 'flat-six', 'roar', 'all', 'combine', 'to', 'make', 'it', 'a', 'dream', 'machine', '.', 'From', 'classic', 'longhoods', 'to', 'modern', 'marvels', 'packed', 'with', 'tech', ',', 'the', '911', 'has', 'evolved', 'for', 'decades', ',', 'always', 'staying', 'true', 'to', 'its', 'sporty', 'soul', '.', 'Whether', 'carving', 'corners', 'on', 'a', 'mountain', 'road', '⛰️', 'or', 'turning', 'heads', 'on', 'city', 'streets', '️', ',', 'the', '911', 'is', 'the', 'ultimate', 'expression', 'of', 'automotive', 'passion', 'and', 'performance', '.']\n"
          ]
        },
        {
          "output_type": "stream",
          "name": "stderr",
          "text": [
            "[nltk_data] Downloading package punkt to /root/nltk_data...\n",
            "[nltk_data]   Package punkt is already up-to-date!\n"
          ]
        }
      ],
      "source": [
        "# word Tokenization\n",
        "nltk.download('punkt')\n",
        "nltk_tokens = nltk.word_tokenize(paragraph)\n",
        "print(nltk_tokens)"
      ]
    },
    {
      "cell_type": "code",
      "source": [
        "# Sentance Tokenization\n",
        "sent_tokens = nltk.sent_tokenize(paragraph)\n",
        "print(sent_tokens)"
      ],
      "metadata": {
        "colab": {
          "base_uri": "https://localhost:8080/"
        },
        "id": "lqlkCvWyGeal",
        "outputId": "f93f1639-99d5-48fa-9604-3e6b10513a2e"
      },
      "execution_count": 43,
      "outputs": [
        {
          "output_type": "stream",
          "name": "stdout",
          "text": [
            "[\"The Porsche 911 isn't just a car, it's a legend ️ Sleek curves , a timeless silhouette , and that iconic flat-six roar  all combine to make it a dream machine.\", 'From classic longhoods  to modern marvels packed with tech , the 911 has evolved for decades, always staying true to its sporty soul.', 'Whether carving corners on a mountain road ⛰️ or turning heads on city streets ️, the 911 is the ultimate expression of automotive passion and performance .']\n"
          ]
        }
      ]
    },
    {
      "cell_type": "code",
      "source": [
        "# Punctuation-based Tokenizer\n",
        "import re\n",
        "punct_tokens = re.findall(r'\\b\\w+\\b|[.,;!?]', paragraph)\n",
        "print(punct_tokens)"
      ],
      "metadata": {
        "colab": {
          "base_uri": "https://localhost:8080/"
        },
        "id": "K9cwkjQRGggl",
        "outputId": "c860a36d-be0e-4d3a-c6d6-033970e399a3"
      },
      "execution_count": 44,
      "outputs": [
        {
          "output_type": "stream",
          "name": "stdout",
          "text": [
            "['The', 'Porsche', '911', 'isn', 't', 'just', 'a', 'car', ',', 'it', 's', 'a', 'legend', 'Sleek', 'curves', ',', 'a', 'timeless', 'silhouette', ',', 'and', 'that', 'iconic', 'flat', 'six', 'roar', 'all', 'combine', 'to', 'make', 'it', 'a', 'dream', 'machine', '.', 'From', 'classic', 'longhoods', 'to', 'modern', 'marvels', 'packed', 'with', 'tech', ',', 'the', '911', 'has', 'evolved', 'for', 'decades', ',', 'always', 'staying', 'true', 'to', 'its', 'sporty', 'soul', '.', 'Whether', 'carving', 'corners', 'on', 'a', 'mountain', 'road', 'or', 'turning', 'heads', 'on', 'city', 'streets', ',', 'the', '911', 'is', 'the', 'ultimate', 'expression', 'of', 'automotive', 'passion', 'and', 'performance', '.']\n"
          ]
        }
      ]
    },
    {
      "cell_type": "code",
      "source": [
        "# Treebank Word Tokenizer\n",
        "from nltk.tokenize import TreebankWordTokenizer\n",
        "treebank_tokenizer = TreebankWordTokenizer()\n",
        "treebank_tokens = treebank_tokenizer.tokenize(paragraph)\n",
        "print(treebank_tokens)"
      ],
      "metadata": {
        "colab": {
          "base_uri": "https://localhost:8080/"
        },
        "id": "4BNFSqmNHMHU",
        "outputId": "d4f8cc20-f501-4746-e62f-91f0378acb73"
      },
      "execution_count": 45,
      "outputs": [
        {
          "output_type": "stream",
          "name": "stdout",
          "text": [
            "['The', 'Porsche', '911', 'is', \"n't\", 'just', 'a', 'car', ',', 'it', \"'s\", 'a', 'legend', '️', 'Sleek', 'curves', ',', 'a', 'timeless', 'silhouette', ',', 'and', 'that', 'iconic', 'flat-six', 'roar', 'all', 'combine', 'to', 'make', 'it', 'a', 'dream', 'machine.', 'From', 'classic', 'longhoods', 'to', 'modern', 'marvels', 'packed', 'with', 'tech', ',', 'the', '911', 'has', 'evolved', 'for', 'decades', ',', 'always', 'staying', 'true', 'to', 'its', 'sporty', 'soul.', 'Whether', 'carving', 'corners', 'on', 'a', 'mountain', 'road', '⛰️', 'or', 'turning', 'heads', 'on', 'city', 'streets', '️', ',', 'the', '911', 'is', 'the', 'ultimate', 'expression', 'of', 'automotive', 'passion', 'and', 'performance', '.']\n"
          ]
        }
      ]
    },
    {
      "cell_type": "code",
      "source": [
        "# Tweet Tokenizer\n",
        "from nltk.tokenize import TweetTokenizer\n",
        "tweet_tokenizer = TweetTokenizer()\n",
        "tweet_tokens = tweet_tokenizer.tokenize(paragraph)\n",
        "print(tweet_tokens)"
      ],
      "metadata": {
        "colab": {
          "base_uri": "https://localhost:8080/"
        },
        "id": "yTf5n15bHOKE",
        "outputId": "729c1324-68cf-4e75-fda6-a63a08133b8f"
      },
      "execution_count": 46,
      "outputs": [
        {
          "output_type": "stream",
          "name": "stdout",
          "text": [
            "['The', 'Porsche', '911', \"isn't\", 'just', 'a', 'car', ',', \"it's\", 'a', 'legend', '️', 'Sleek', 'curves', ',', 'a', 'timeless', 'silhouette', ',', 'and', 'that', 'iconic', 'flat-six', 'roar', 'all', 'combine', 'to', 'make', 'it', 'a', 'dream', 'machine', '.', 'From', 'classic', 'longhoods', 'to', 'modern', 'marvels', 'packed', 'with', 'tech', ',', 'the', '911', 'has', 'evolved', 'for', 'decades', ',', 'always', 'staying', 'true', 'to', 'its', 'sporty', 'soul', '.', 'Whether', 'carving', 'corners', 'on', 'a', 'mountain', 'road', '⛰', '️', 'or', 'turning', 'heads', 'on', 'city', 'streets', '️', ',', 'the', '911', 'is', 'the', 'ultimate', 'expression', 'of', 'automotive', 'passion', 'and', 'performance', '.']\n"
          ]
        }
      ]
    },
    {
      "cell_type": "code",
      "source": [
        "# Multi-Word Expression Tokenizer\n",
        "from nltk.tokenize import MWETokenizer\n",
        "mwetokenizer = MWETokenizer([('rhythmic', 'symphony'), ('water\\'s', 'edge')])\n",
        "mwe_tokens = mwetokenizer.tokenize(nltk.word_tokenize(paragraph))\n",
        "print(mwe_tokens)"
      ],
      "metadata": {
        "colab": {
          "base_uri": "https://localhost:8080/"
        },
        "id": "nNh6HH5bHdHl",
        "outputId": "2b5a25ff-71fc-4720-bcfe-00f9dca3a044"
      },
      "execution_count": 47,
      "outputs": [
        {
          "output_type": "stream",
          "name": "stdout",
          "text": [
            "['The', 'Porsche', '911', 'is', \"n't\", 'just', 'a', 'car', ',', 'it', \"'s\", 'a', 'legend', '️', 'Sleek', 'curves', ',', 'a', 'timeless', 'silhouette', ',', 'and', 'that', 'iconic', 'flat-six', 'roar', 'all', 'combine', 'to', 'make', 'it', 'a', 'dream', 'machine', '.', 'From', 'classic', 'longhoods', 'to', 'modern', 'marvels', 'packed', 'with', 'tech', ',', 'the', '911', 'has', 'evolved', 'for', 'decades', ',', 'always', 'staying', 'true', 'to', 'its', 'sporty', 'soul', '.', 'Whether', 'carving', 'corners', 'on', 'a', 'mountain', 'road', '⛰️', 'or', 'turning', 'heads', 'on', 'city', 'streets', '️', ',', 'the', '911', 'is', 'the', 'ultimate', 'expression', 'of', 'automotive', 'passion', 'and', 'performance', '.']\n"
          ]
        }
      ]
    },
    {
      "cell_type": "code",
      "source": [
        "# TextBlob Word Tokenize\n",
        "from textblob import TextBlob\n",
        "blob = TextBlob(paragraph)\n",
        "textblob_tokens = blob.words\n",
        "print(textblob_tokens)"
      ],
      "metadata": {
        "colab": {
          "base_uri": "https://localhost:8080/"
        },
        "id": "E0Cf4NuSHhB0",
        "outputId": "1b4bb5de-0c4f-4d55-ef44-b28ac97ef007"
      },
      "execution_count": 48,
      "outputs": [
        {
          "output_type": "stream",
          "name": "stdout",
          "text": [
            "['The', 'Porsche', '911', 'is', \"n't\", 'just', 'a', 'car', 'it', \"'s\", 'a', 'legend', '️', 'Sleek', 'curves', 'a', 'timeless', 'silhouette', 'and', 'that', 'iconic', 'flat-six', 'roar', 'all', 'combine', 'to', 'make', 'it', 'a', 'dream', 'machine', 'From', 'classic', 'longhoods', 'to', 'modern', 'marvels', 'packed', 'with', 'tech', 'the', '911', 'has', 'evolved', 'for', 'decades', 'always', 'staying', 'true', 'to', 'its', 'sporty', 'soul', 'Whether', 'carving', 'corners', 'on', 'a', 'mountain', 'road', '⛰️', 'or', 'turning', 'heads', 'on', 'city', 'streets', '️', 'the', '911', 'is', 'the', 'ultimate', 'expression', 'of', 'automotive', 'passion', 'and', 'performance']\n"
          ]
        }
      ]
    },
    {
      "cell_type": "code",
      "source": [
        "#  spaCy Tokenizer\n",
        "import spacy\n",
        "nlp = spacy.load('en_core_web_sm')\n",
        "doc = nlp(paragraph)\n",
        "spacy_tokens = [token.text for token in doc]\n",
        "print(spacy_tokens)"
      ],
      "metadata": {
        "colab": {
          "base_uri": "https://localhost:8080/"
        },
        "id": "DATVDVRPHjig",
        "outputId": "41a1c3ff-be34-44ff-8cf2-01bb8decad28"
      },
      "execution_count": 49,
      "outputs": [
        {
          "output_type": "stream",
          "name": "stdout",
          "text": [
            "['The', 'Porsche', '911', 'is', \"n't\", 'just', 'a', 'car', ',', 'it', \"'s\", 'a', 'legend', '️', 'Sleek', 'curves', ',', 'a', 'timeless', 'silhouette', ',', 'and', 'that', 'iconic', 'flat', '-', 'six', 'roar', ' ', 'all', 'combine', 'to', 'make', 'it', 'a', 'dream', 'machine', '.', 'From', 'classic', 'longhoods', ' ', 'to', 'modern', 'marvels', 'packed', 'with', 'tech', ',', 'the', '911', 'has', 'evolved', 'for', 'decades', ',', 'always', 'staying', 'true', 'to', 'its', 'sporty', 'soul', '.', 'Whether', 'carving', 'corners', 'on', 'a', 'mountain', 'road', '⛰', '️', 'or', 'turning', 'heads', 'on', 'city', 'streets', '️', ',', 'the', '911', 'is', 'the', 'ultimate', 'expression', 'of', 'automotive', 'passion', 'and', 'performance', '.']\n"
          ]
        }
      ]
    },
    {
      "cell_type": "code",
      "source": [
        "#Gensim Word Tokenizer\n",
        "from gensim.utils import tokenize\n",
        "gensim_tokens = list(tokenize(paragraph))\n",
        "print(gensim_tokens)\n"
      ],
      "metadata": {
        "colab": {
          "base_uri": "https://localhost:8080/"
        },
        "id": "rvrzo-5RHmt1",
        "outputId": "01fd55ed-2c3f-4029-90fd-4d2ca6f194e4"
      },
      "execution_count": 50,
      "outputs": [
        {
          "output_type": "stream",
          "name": "stdout",
          "text": [
            "['The', 'Porsche', 'isn', 't', 'just', 'a', 'car', 'it', 's', 'a', 'legend', 'Sleek', 'curves', 'a', 'timeless', 'silhouette', 'and', 'that', 'iconic', 'flat', 'six', 'roar', 'all', 'combine', 'to', 'make', 'it', 'a', 'dream', 'machine', 'From', 'classic', 'longhoods', 'to', 'modern', 'marvels', 'packed', 'with', 'tech', 'the', 'has', 'evolved', 'for', 'decades', 'always', 'staying', 'true', 'to', 'its', 'sporty', 'soul', 'Whether', 'carving', 'corners', 'on', 'a', 'mountain', 'road', 'or', 'turning', 'heads', 'on', 'city', 'streets', 'the', 'is', 'the', 'ultimate', 'expression', 'of', 'automotive', 'passion', 'and', 'performance']\n"
          ]
        }
      ]
    },
    {
      "cell_type": "code",
      "source": [
        "# Tokenization with Keras\n",
        "from keras.preprocessing.text import text_to_word_sequence\n",
        "keras_tokens = text_to_word_sequence(paragraph)\n",
        "print(keras_tokens)"
      ],
      "metadata": {
        "colab": {
          "base_uri": "https://localhost:8080/"
        },
        "id": "MQ48oQTmHtMx",
        "outputId": "43d2a266-fbe7-47c3-b4e5-523af086f2b5"
      },
      "execution_count": 51,
      "outputs": [
        {
          "output_type": "stream",
          "name": "stdout",
          "text": [
            "['the', 'porsche', '911', \"isn't\", 'just', 'a', 'car', \"it's\", 'a', 'legend', '️', 'sleek', 'curves', 'a', 'timeless', 'silhouette', 'and', 'that', 'iconic', 'flat', 'six', 'roar', 'all', 'combine', 'to', 'make', 'it', 'a', 'dream', 'machine', 'from', 'classic', 'longhoods', 'to', 'modern', 'marvels', 'packed', 'with', 'tech', 'the', '911', 'has', 'evolved', 'for', 'decades', 'always', 'staying', 'true', 'to', 'its', 'sporty', 'soul', 'whether', 'carving', 'corners', 'on', 'a', 'mountain', 'road', '⛰️', 'or', 'turning', 'heads', 'on', 'city', 'streets', '️', 'the', '911', 'is', 'the', 'ultimate', 'expression', 'of', 'automotive', 'passion', 'and', 'performance']\n"
          ]
        }
      ]
    }
  ]
}