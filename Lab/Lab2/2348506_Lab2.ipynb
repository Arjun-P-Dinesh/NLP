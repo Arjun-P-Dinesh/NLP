{
 "cells": [
  {
   "cell_type": "code",
   "execution_count": 27,
   "metadata": {},
   "outputs": [],
   "source": [
    "import nltk"
   ]
  },
  {
   "cell_type": "code",
   "execution_count": 29,
   "metadata": {},
   "outputs": [],
   "source": [
    "paragraph = \"The Porsche 911, born in 1963, isn't just a car; it's a cultural icon. Its timeless design, characterized by the instantly recognizable 'flyline' and sloping roofline, has captivated sports car enthusiasts for generations. But the 911 isn't just a pretty face; it boasts exhilarating performance, with a range of powerful engines, sharp handling, and precision engineering. From the nimble Carrera to the track-focused GT3, there's a 911 to suit every driving style and desire. With its enduring legacy and constant evolution, the 911 remains the benchmark for high-performance sports cars, solidifying its place as a true automotive legend.\""
   ]
  },
  {
   "cell_type": "code",
   "execution_count": null,
   "metadata": {},
   "outputs": [],
   "source": []
  }
 ],
 "metadata": {
  "kernelspec": {
   "display_name": "clg",
   "language": "python",
   "name": "python3"
  },
  "language_info": {
   "codemirror_mode": {
    "name": "ipython",
    "version": 3
   },
   "file_extension": ".py",
   "mimetype": "text/x-python",
   "name": "python",
   "nbconvert_exporter": "python",
   "pygments_lexer": "ipython3",
   "version": "3.12.1"
  }
 },
 "nbformat": 4,
 "nbformat_minor": 2
}
